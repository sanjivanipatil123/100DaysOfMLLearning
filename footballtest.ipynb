{
  "nbformat": 4,
  "nbformat_minor": 0,
  "metadata": {
    "colab": {
      "provenance": [],
      "authorship_tag": "ABX9TyMUd80M1yEH5A0uQMnd/1Yr",
      "include_colab_link": true
    },
    "kernelspec": {
      "name": "python3",
      "display_name": "Python 3"
    },
    "language_info": {
      "name": "python"
    }
  },
  "cells": [
    {
      "cell_type": "markdown",
      "metadata": {
        "id": "view-in-github",
        "colab_type": "text"
      },
      "source": [
        "<a href=\"https://colab.research.google.com/github/sanjivanipatil123/100DaysOfMLLearning/blob/main/footballtest.ipynb\" target=\"_parent\"><img src=\"https://colab.research.google.com/assets/colab-badge.svg\" alt=\"Open In Colab\"/></a>"
      ]
    },
    {
      "cell_type": "code",
      "execution_count": null,
      "metadata": {
        "id": "ZBXVfxN_nJOg"
      },
      "outputs": [],
      "source": [
        "import pandas as pd"
      ]
    },
    {
      "cell_type": "code",
      "source": [
        "import pandas as pd\n",
        "\n",
        "# Load the dataset using pd.read_excel\n",
        "# Replace 'football_data.csv' with your actual file path\n",
        "df = pd.read_excel('/content/Football Data Test Task2.xlsx')"
      ],
      "metadata": {
        "id": "9gDOKvopnQJm"
      },
      "execution_count": null,
      "outputs": []
    },
    {
      "cell_type": "code",
      "source": [
        "# Function to calculate total wins in the last N matches\n",
        "def calculate_wins(df, team, n):\n",
        "    # Filter matches for the team\n",
        "    home_matches = df[(df['HomeTeam'] == team)]\n",
        "    away_matches = df[(df['AwayTeam'] == team)]"
      ],
      "metadata": {
        "id": "8cqZI_56n1cl"
      },
      "execution_count": null,
      "outputs": []
    },
    {
      "cell_type": "code",
      "source": [
        "# Function to calculate total wins in the last N matches\n",
        "def calculate_wins(df, team, n):\n",
        "    # Filter matches for the team\n",
        "    home_matches = df[(df['HomeTeam'] == team)]\n",
        "    away_matches = df[(df['AwayTeam'] == team)]\n",
        "    # Combine home and away matches\n",
        "    all_matches = pd.concat([home_matches, away_matches])\n",
        "    #The line causing the error was indented too far.\n",
        "    # It should be aligned with the other lines within the function."
      ],
      "metadata": {
        "id": "H-vr01w8n1h3"
      },
      "execution_count": null,
      "outputs": []
    },
    {
      "cell_type": "code",
      "source": [
        "# Function to calculate total wins in the last N matches\n",
        "def calculate_wins(df, team, n):\n",
        "    # Filter matches for the team\n",
        "    home_matches = df[(df['HomeTeam'] == team)]\n",
        "    away_matches = df[(df['AwayTeam'] == team)]\n",
        "    # Combine home and away matches\n",
        "    all_matches = pd.concat([home_matches, away_matches])\n",
        "    # Sort by date to get the last N matches\n",
        "    all_matches = all_matches.sort_values(by='Date', ascending=False).head(n)\n",
        "\n",
        "    # Calculate wins\n",
        "    total_wins = all_matches[(all_matches['FTR'] == 'H') & (all_matches['HomeTeam'] == team) |\n",
        "                             (all_matches['FTR'] == 'A') & (all_matches['AwayTeam'] == team)].shape[0]\n",
        "\n",
        "    return total_wins"
      ],
      "metadata": {
        "id": "OXGdGDr1n1m-"
      },
      "execution_count": null,
      "outputs": []
    },
    {
      "cell_type": "code",
      "source": [
        "# Display the final DataFrame\n",
        "print(df)"
      ],
      "metadata": {
        "colab": {
          "base_uri": "https://localhost:8080/"
        },
        "id": "b8YRVaY-odkt",
        "outputId": "8e078d49-ba0a-4509-8c7c-86a6e9fedd42"
      },
      "execution_count": null,
      "outputs": [
        {
          "output_type": "stream",
          "name": "stdout",
          "text": [
            "      Incremental_ID  Div       Date      Time       HomeTeam        AwayTeam  \\\n",
            "0                  1   E0 2005-08-13       NaN    Aston Villa          Bolton   \n",
            "1                  2   E0 2005-08-13       NaN        Everton      Man United   \n",
            "2                  3   E0 2005-08-13       NaN         Fulham      Birmingham   \n",
            "3                  4   E0 2005-08-13       NaN       Man City       West Brom   \n",
            "4                  5   E0 2005-08-13       NaN  Middlesbrough       Liverpool   \n",
            "...              ...  ...        ...       ...            ...             ...   \n",
            "7245              26  NaN 2024-08-31  15:00:00  Nott'm Forest          Wolves   \n",
            "7246              27  NaN 2024-08-31  17:30:00       West Ham        Man City   \n",
            "7247              28  NaN 2024-09-01  13:30:00        Chelsea  Crystal Palace   \n",
            "7248              29  NaN 2024-09-01  13:30:00      Newcastle       Tottenham   \n",
            "7249              30  NaN 2024-09-01  16:00:00     Man United       Liverpool   \n",
            "\n",
            "      FTHG  FTAG FTR  HTHG  ...  HY AY HR  AR  Wins_Home_L5  Wins_Home_L15  \\\n",
            "0        2     2   D     2  ...   0  2  0   0           2.0            6.0   \n",
            "1        0     2   A     0  ...   3  1  0   0           1.0            5.0   \n",
            "2        0     0   D     0  ...   1  2  0   0           2.0            5.0   \n",
            "3        0     0   D     0  ...   2  3  0   0           5.0           13.0   \n",
            "4        0     0   D     0  ...   2  3  1   0           1.0            1.0   \n",
            "...    ...   ...  ..   ...  ...  .. .. ..  ..           ...            ...   \n",
            "7245     1     1   D     1  ...   3  4  0   0           2.0            4.0   \n",
            "7246     1     3   A     1  ...   3  2  0   0           2.0            4.0   \n",
            "7247     1     1   D     1  ...   4  2  0   0           3.0            9.0   \n",
            "7248     2     1   H     1  ...   4  4  0   0           3.0            9.0   \n",
            "7249     0     3   A     0  ...   4  1  0   0           3.0            5.0   \n",
            "\n",
            "      Wins_Home_L38  Wins_Away_L5  Wins_Away_L15  Wins_Away_L38  \n",
            "0              20.0           1.0            4.0           10.0  \n",
            "1              13.0           3.0            5.0           17.0  \n",
            "2              13.0           0.0            4.0            8.0  \n",
            "3              28.0           0.0            3.0            5.0  \n",
            "4               5.0           4.0            9.0           25.0  \n",
            "...             ...           ...            ...            ...  \n",
            "7245            9.0           0.0            2.0           12.0  \n",
            "7246           13.0           5.0           13.0           28.0  \n",
            "7247           18.0           2.0            6.0           12.0  \n",
            "7248           19.0           2.0            6.0           19.0  \n",
            "7249           17.0           4.0            9.0           25.0  \n",
            "\n",
            "[7250 rows x 31 columns]\n"
          ]
        }
      ]
    },
    {
      "cell_type": "code",
      "source": [
        "# Optionally, save to CSV\n",
        "df.to_csv('output_football_data.csv', index=False)"
      ],
      "metadata": {
        "id": "bwbm6SsQo3hq"
      },
      "execution_count": null,
      "outputs": []
    },
    {
      "cell_type": "code",
      "source": [
        "# Function to calculate total values in the last N matches for a given team and column\n",
        "def calculate_statistic(df, team, column, n):\n",
        "    # Filter matches for the team\n",
        "    home_matches = df[(df['HomeTeam'] == team)]\n",
        "    away_matches = df[(df['AwayTeam'] == team)]\n",
        "\n",
        "    # Combine home and away matches\n",
        "    all_matches = pd.concat([home_matches, away_matches])\n",
        "\n",
        "    # Sort by date to get the last N matches\n",
        "    all_matches = all_matches.sort_values(by='Date', ascending=False).head(n)\n",
        "\n",
        "    # Calculate the total for the specified column\n",
        "    total_statistic = all_matches[column].sum()\n",
        "\n",
        "    return total_statistic"
      ],
      "metadata": {
        "id": "AT1v4-mSsroG"
      },
      "execution_count": null,
      "outputs": []
    },
    {
      "cell_type": "code",
      "source": [
        "# Create new columns for each statistic for home and away teams\n",
        "for index, row in df.iterrows():\n",
        "    home_team = row['HomeTeam']\n",
        "    away_team = row['AwayTeam']\n",
        "\n",
        "    # Calculate statistics for home team\n",
        "    for col in ['HS', 'HST', 'HF', 'HC', 'HY', 'HR']:\n",
        "        df.loc[index, f'{col}_Home_L5'] = calculate_statistic(df, home_team, col, 5)\n",
        "        df.loc[index, f'{col}_Home_L15'] = calculate_statistic(df, home_team, col, 15)\n",
        "        df.loc[index, f'{col}_Home_L38'] = calculate_statistic(df, home_team, col, 38)\n",
        "\n",
        "    # Calculate statistics for away team\n",
        "    for col in ['AS', 'AST', 'AF', 'AC', 'AY', 'AR']:\n",
        "        df.loc[index, f'{col}_Away_L5'] = calculate_statistic(df, away_team, col, 5)\n",
        "        df.loc[index, f'{col}_Away_L15'] = calculate_statistic(df, away_team, col, 15)\n",
        "        df.loc[index, f'{col}_Away_L38'] = calculate_statistic(df, away_team, col, 38)"
      ],
      "metadata": {
        "id": "xsvnJayhsr--"
      },
      "execution_count": null,
      "outputs": []
    },
    {
      "cell_type": "code",
      "source": [
        "\n",
        "# Display the final DataFrame\n",
        "print(df)"
      ],
      "metadata": {
        "colab": {
          "base_uri": "https://localhost:8080/"
        },
        "id": "3lIu4h7wssB1",
        "outputId": "b6d65059-e843-48c0-a398-98017347f511"
      },
      "execution_count": null,
      "outputs": [
        {
          "output_type": "stream",
          "name": "stdout",
          "text": [
            "      Incremental_ID  Div       Date      Time       HomeTeam        AwayTeam  \\\n",
            "0                  1   E0 2005-08-13       NaN    Aston Villa          Bolton   \n",
            "1                  2   E0 2005-08-13       NaN        Everton      Man United   \n",
            "2                  3   E0 2005-08-13       NaN         Fulham      Birmingham   \n",
            "3                  4   E0 2005-08-13       NaN       Man City       West Brom   \n",
            "4                  5   E0 2005-08-13       NaN  Middlesbrough       Liverpool   \n",
            "...              ...  ...        ...       ...            ...             ...   \n",
            "7245              26  NaN 2024-08-31  15:00:00  Nott'm Forest          Wolves   \n",
            "7246              27  NaN 2024-08-31  17:30:00       West Ham        Man City   \n",
            "7247              28  NaN 2024-09-01  13:30:00        Chelsea  Crystal Palace   \n",
            "7248              29  NaN 2024-09-01  13:30:00      Newcastle       Tottenham   \n",
            "7249              30  NaN 2024-09-01  16:00:00     Man United       Liverpool   \n",
            "\n",
            "      FTHG  FTAG FTR  HTHG  ...  AF_Away_L38 AC_Away_L5 AC_Away_L15  \\\n",
            "0        2     2   D     2  ...        381.0       31.0        88.0   \n",
            "1        0     2   A     0  ...        393.0       28.0        77.0   \n",
            "2        0     0   D     0  ...        439.0       16.0        64.0   \n",
            "3        0     0   D     0  ...        404.0       36.0        82.0   \n",
            "4        0     0   D     0  ...        443.0       22.0        83.0   \n",
            "...    ...   ...  ..   ...  ...          ...        ...         ...   \n",
            "7245     1     1   D     1  ...        460.0       15.0        55.0   \n",
            "7246     1     3   A     1  ...        365.0       21.0        60.0   \n",
            "7247     1     1   D     1  ...        462.0       22.0        61.0   \n",
            "7248     2     1   H     1  ...        497.0       40.0        86.0   \n",
            "7249     0     3   A     0  ...        443.0       22.0        83.0   \n",
            "\n",
            "      AC_Away_L38  AY_Away_L5  AY_Away_L15  AY_Away_L38  AR_Away_L5  \\\n",
            "0           220.0         8.0         18.0         54.0         0.0   \n",
            "1           198.0        12.0         26.0         82.0         0.0   \n",
            "2           188.0        15.0         30.0         64.0         1.0   \n",
            "3           171.0         5.0         13.0         45.0         0.0   \n",
            "4           184.0         7.0         28.0         85.0         1.0   \n",
            "...           ...         ...          ...          ...         ...   \n",
            "7245        155.0        12.0         34.0         99.0         2.0   \n",
            "7246        173.0        10.0         23.0         79.0         0.0   \n",
            "7247        148.0        14.0         32.0         80.0         1.0   \n",
            "7248        207.0         8.0         39.0        102.0         0.0   \n",
            "7249        184.0         7.0         28.0         85.0         1.0   \n",
            "\n",
            "      AR_Away_L15  AR_Away_L38  \n",
            "0             0.0          3.0  \n",
            "1             0.0          1.0  \n",
            "2             1.0          1.0  \n",
            "3             1.0          2.0  \n",
            "4             1.0          6.0  \n",
            "...           ...          ...  \n",
            "7245          3.0          4.0  \n",
            "7246          0.0          0.0  \n",
            "7247          1.0          2.0  \n",
            "7248          0.0          5.0  \n",
            "7249          1.0          6.0  \n",
            "\n",
            "[7250 rows x 61 columns]\n"
          ]
        }
      ]
    },
    {
      "cell_type": "code",
      "source": [
        "df.to_csv('output_football_data.csv', index=False)"
      ],
      "metadata": {
        "id": "l8Ok4YFLssFR"
      },
      "execution_count": null,
      "outputs": []
    },
    {
      "cell_type": "code",
      "source": [
        "try:\n",
        "    df.to_csv('output_football_data.csv', index=False)\n",
        "    print(\"File saved successfully!\")\n",
        "except Exception as e:\n",
        "    print(f\"An error occurred: {e}\")\n"
      ],
      "metadata": {
        "colab": {
          "base_uri": "https://localhost:8080/"
        },
        "id": "6si6z5IOgSus",
        "outputId": "0ab15e0a-0913-4981-c694-49af687b7ef1"
      },
      "execution_count": null,
      "outputs": [
        {
          "output_type": "stream",
          "name": "stdout",
          "text": [
            "File saved successfully!\n"
          ]
        }
      ]
    },
    {
      "cell_type": "code",
      "source": [
        "# Optionally, save to CSV\n",
        "df.to_csv('output_football_data.csv', index=False)"
      ],
      "metadata": {
        "id": "7GG-uqM0gxN5"
      },
      "execution_count": null,
      "outputs": []
    }
  ]
}
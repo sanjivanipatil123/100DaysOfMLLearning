{
  "nbformat": 4,
  "nbformat_minor": 0,
  "metadata": {
    "colab": {
      "provenance": [],
      "authorship_tag": "ABX9TyOyEtsjR9M93v5pqmtyfEnE",
      "include_colab_link": true
    },
    "kernelspec": {
      "name": "python3",
      "display_name": "Python 3"
    },
    "language_info": {
      "name": "python"
    }
  },
  "cells": [
    {
      "cell_type": "markdown",
      "metadata": {
        "id": "view-in-github",
        "colab_type": "text"
      },
      "source": [
        "<a href=\"https://colab.research.google.com/github/sanjivanipatil123/100DaysOfMLLearning/blob/main/Football_Data_Test_Task.ipynb\" target=\"_parent\"><img src=\"https://colab.research.google.com/assets/colab-badge.svg\" alt=\"Open In Colab\"/></a>"
      ]
    },
    {
      "cell_type": "code",
      "execution_count": 1,
      "metadata": {
        "id": "zNcq2s_ac_ZW"
      },
      "outputs": [],
      "source": [
        "import pandas as pd"
      ]
    },
    {
      "cell_type": "code",
      "source": [
        "import pandas as pd\n",
        "\n",
        "# Load the dataset from an Excel file\n",
        "file_path = r\"/content/Football Data Test Task2.xlsx\"  # Raw string to handle backslashes\n",
        "data = pd.read_excel(file_path)\n",
        "\n",
        "# Convert the 'Date' column to a proper datetime format\n",
        "data['Date'] = pd.to_datetime(data['Date'])\n",
        "\n",
        "# Print the first few rows to verify\n",
        "print(data.head())\n"
      ],
      "metadata": {
        "colab": {
          "base_uri": "https://localhost:8080/"
        },
        "id": "WhO4S0tCdCGS",
        "outputId": "17b5c47b-47de-4133-8349-108329be73b4"
      },
      "execution_count": 3,
      "outputs": [
        {
          "output_type": "stream",
          "name": "stdout",
          "text": [
            "   Incremental_ID Div       Date Time       HomeTeam    AwayTeam  FTHG  FTAG  \\\n",
            "0               1  E0 2005-08-13  NaN    Aston Villa      Bolton     2     2   \n",
            "1               2  E0 2005-08-13  NaN        Everton  Man United     0     2   \n",
            "2               3  E0 2005-08-13  NaN         Fulham  Birmingham     0     0   \n",
            "3               4  E0 2005-08-13  NaN       Man City   West Brom     0     0   \n",
            "4               5  E0 2005-08-13  NaN  Middlesbrough   Liverpool     0     0   \n",
            "\n",
            "  FTR  HTHG  ...  HST AST  HF  AF  HC  AC  HY  AY  HR  AR  \n",
            "0   D     2  ...    2   6  14  16   7   8   0   2   0   0  \n",
            "1   A     0  ...    5   5  15  14   8   6   3   1   0   0  \n",
            "2   D     0  ...    7   4  12  13   6   6   1   2   0   0  \n",
            "3   D     0  ...    8   3  13  11   3   6   2   3   0   0  \n",
            "4   D     0  ...    2   7  17  11   5   0   2   3   1   0  \n",
            "\n",
            "[5 rows x 25 columns]\n"
          ]
        }
      ]
    },
    {
      "cell_type": "code",
      "source": [
        "# List of blue columns to process\n",
        "blue_columns = ['FTHG', 'FTAG', 'HS', 'AS', 'HST', 'AST', 'HF', 'AF', 'HC', 'AC', 'HY', 'AY', 'HR', 'AR']"
      ],
      "metadata": {
        "id": "cnonOUlxdCIz"
      },
      "execution_count": 4,
      "outputs": []
    },
    {
      "cell_type": "code",
      "source": [
        "# Function to compute aggregated metrics\n",
        "def compute_last_n_matches(df, team_col, stat_col, n, team, match_type):\n",
        "    # Filter matches involving the team\n",
        "    team_matches = df[(df['HomeTeam'] == team) | (df['AwayTeam'] == team)].copy()\n",
        "    team_matches['is_home'] = team_matches['HomeTeam'] == team"
      ],
      "metadata": {
        "id": "10Jjl157diXc"
      },
      "execution_count": 5,
      "outputs": []
    },
    {
      "cell_type": "code",
      "source": [
        "def compute_last_n_matches(df, team_col, stat_col, n, team, match_type):\n",
        "    # Filter matches involving the team\n",
        "    team_matches = df[(df['HomeTeam'] == team) | (df['AwayTeam'] == team)].copy()\n",
        "    team_matches['is_home'] = team_matches['HomeTeam'] == team\n",
        "    # Add relevant stats\n",
        "    team_matches[stat_col + '_adjusted'] = team_matches.apply(\n",
        "        lambda row: row[stat_col] if row['is_home'] else 0, axis=1\n",
        "    ) if match_type == 'Home' else team_matches.apply(\n",
        "        lambda row: 0 if row['is_home'] else row[stat_col], axis=1\n",
        "    )"
      ],
      "metadata": {
        "id": "LvbvVBLsdich"
      },
      "execution_count": 7,
      "outputs": []
    },
    {
      "cell_type": "code",
      "source": [
        "# Function to compute aggregated metrics\n",
        "def compute_last_n_matches(df, team_col, stat_col, n, team, match_type):\n",
        "    # Filter matches involving the team\n",
        "    team_matches = df[(df['HomeTeam'] == team) | (df['AwayTeam'] == team)].copy()\n",
        "    team_matches['is_home'] = team_matches['HomeTeam'] == team\n",
        "    # Add relevant stats\n",
        "    team_matches[stat_col + '_adjusted'] = team_matches.apply(\n",
        "        lambda row: row[stat_col] if row['is_home'] else 0, axis=1\n",
        "    ) if match_type == 'Home' else team_matches.apply(\n",
        "        lambda row: 0 if row['is_home'] else row[stat_col], axis=1\n",
        "    )\n",
        "    # Compute rolling sum\n",
        "    rolling_sum = team_matches[stat_col + '_adjusted'].rolling(n).sum().iloc[-1] # This line was indented incorrectly\n",
        "    return rolling_sum"
      ],
      "metadata": {
        "id": "WQiVWfgUdih-"
      },
      "execution_count": 9,
      "outputs": []
    },
    {
      "cell_type": "code",
      "source": [
        "# Manipulate data for all teams and blue columns\n",
        "teams = data['HomeTeam'].unique()  # Use 'data' instead of 'df'\n",
        "manipulated_data = []\n",
        "\n",
        "for team in teams:\n",
        "    team_data = {'Team': team}\n",
        "    for col in blue_columns:\n",
        "        for n in [5, 15, 38]:\n",
        "            team_data[f'{col}_L{n}_Home'] = compute_last_n_matches(data, 'HomeTeam', col, n, team, 'Home') # Use 'data' instead of 'df'\n",
        "            team_data[f'{col}_L{n}_Away'] = compute_last_n_matches(data, 'AwayTeam', col, n, team, 'Away') # Use 'data' instead of 'df'\n",
        "            manipulated_data.append(team_data) # Append team_data to manipulated_data after each iteration"
      ],
      "metadata": {
        "id": "nwcZH5c1eaBB"
      },
      "execution_count": 14,
      "outputs": []
    },
    {
      "cell_type": "code",
      "source": [
        "# Convert to DataFrame\n",
        "manipulated_df = pd.DataFrame(manipulated_data)"
      ],
      "metadata": {
        "id": "PPd2ySzteaDx"
      },
      "execution_count": 15,
      "outputs": []
    },
    {
      "cell_type": "code",
      "source": [
        "# Save the manipulated data\n",
        "manipulated_df.to_csv(\"manipulated_data.csv\", index=False)"
      ],
      "metadata": {
        "id": "hLbiBC-ZeaHU"
      },
      "execution_count": 16,
      "outputs": []
    },
    {
      "cell_type": "code",
      "source": [
        "from google.colab import drive\n",
        "drive.mount('/content/drive')"
      ],
      "metadata": {
        "id": "oYR2_AfMfVaC"
      },
      "execution_count": null,
      "outputs": []
    }
  ]
}